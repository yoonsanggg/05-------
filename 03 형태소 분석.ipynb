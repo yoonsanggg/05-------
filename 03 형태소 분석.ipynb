{
 "cells": [
  {
   "cell_type": "markdown",
   "id": "d151aabb",
   "metadata": {},
   "source": [
    "## 형태소 분석\n",
    "※NLP(Natural Language Processing) [자연어 처리]\n",
    "\n",
    "- 자연어 의미를 분석해 컴퓨터가 처리할 수 있도록 하는 일(챗봇 엔진에 자주 사용된다.)\n",
    "\n",
    " \n",
    "\n",
    "※토큰(token)\n",
    "\n",
    "- 어떤 문장을 일정한 의미가 있는 가장 작은 단어들로 나눈다. 그다음 나눠진 단어를 이용해 의미를 분석한다.\n",
    "\n",
    "이때 가장 기본이 되는 단어를 토큰(token)이라 한다.\n",
    "\n",
    " \n",
    "\n",
    "※토크나이징(tokenizing)\n",
    "\n",
    "- 주어진 문장에서 토큰 단위로 정보를 나누는 작업\n",
    "\n",
    "- 문장 형태의 데이터를 처리하기 위해 제일 처음 수행해야 하는 기본적인 작업(텍스트 전처리 과정)"
   ]
  },
  {
   "cell_type": "markdown",
   "id": "b845d13e",
   "metadata": {},
   "source": [
    "### [학습 내용]\n",
    "#### 1. 품사태깅 : okt.pos(텍스트)\n",
    "#### 2. 형태소 단위 추출 : okt.morphs(텍스트)\n",
    "#### 3. 명사 추출: okt.nouns(텍스트)\n",
    "#### 4. 어절 추출: okt.phrases(텍스트)\n",
    "#### 5. 명사, 형용사, 동사 추출\n",
    "#### 6. stopword 지정\n"
   ]
  },
  {
   "cell_type": "markdown",
   "id": "621bc645",
   "metadata": {},
   "source": [
    "### 1. 품사 태깅\n",
    "- okt.pos(텍스트)"
   ]
  },
  {
   "cell_type": "code",
   "execution_count": 3,
   "id": "177190bf",
   "metadata": {},
   "outputs": [],
   "source": [
    "# 참고 사이트 : https://truman.tistory.com/112"
   ]
  },
  {
   "cell_type": "code",
   "execution_count": 1,
   "id": "8a1f4086",
   "metadata": {},
   "outputs": [],
   "source": [
    "from konlpy.tag import Okt,Kkma,Hannanum"
   ]
  },
  {
   "cell_type": "code",
   "execution_count": 2,
   "id": "c7c17cf2",
   "metadata": {},
   "outputs": [],
   "source": [
    "txt = \"아버지가방에들어가신다.\""
   ]
  },
  {
   "cell_type": "code",
   "execution_count": 3,
   "id": "7c0c0b51",
   "metadata": {},
   "outputs": [
    {
     "data": {
      "text/plain": [
       "[('이', 'Determiner'),\n",
       " ('것', 'Noun'),\n",
       " ('도', 'Josa'),\n",
       " ('되나욬', 'Noun'),\n",
       " ('ㅋㅋㅋㅋ', 'KoreanParticle')]"
      ]
     },
     "execution_count": 3,
     "metadata": {},
     "output_type": "execute_result"
    }
   ],
   "source": [
    "# 인스턴스 생성\n",
    "# 인스턴스 : 클래스를 사용하기 위해 메모리 구조를 만든다.\n",
    "\n",
    "okt = Okt()\n",
    "# 형태소 분석\n",
    "\n",
    "okt.pos(txt)\n",
    "\n",
    "okt.pos(\"이것도 되나욬ㅋㅋㅋㅋ\")"
   ]
  },
  {
   "cell_type": "code",
   "execution_count": 4,
   "id": "d3340b0c",
   "metadata": {},
   "outputs": [
    {
     "data": {
      "text/plain": [
       "[('이', 'Determiner'),\n",
       " ('것', 'Noun'),\n",
       " ('도', 'Josa'),\n",
       " ('되나요', 'Verb'),\n",
       " ('ㅋㅋㅋ', 'KoreanParticle')]"
      ]
     },
     "execution_count": 4,
     "metadata": {},
     "output_type": "execute_result"
    }
   ],
   "source": [
    "# norm = True : 품사 태깅(기본값 False)\n",
    "\n",
    "okt.pos(\"이것도 되나욬ㅋㅋㅋㅋ\",norm = True)"
   ]
  },
  {
   "cell_type": "code",
   "execution_count": 6,
   "id": "3efc1f3f",
   "metadata": {},
   "outputs": [],
   "source": [
    "kkma=Kkma()"
   ]
  },
  {
   "cell_type": "code",
   "execution_count": 8,
   "id": "f7f8efcc",
   "metadata": {},
   "outputs": [
    {
     "data": {
      "text/plain": [
       "[('이', 'Determiner'),\n",
       " ('것', 'Noun'),\n",
       " ('도', 'Josa'),\n",
       " ('되다', 'Verb'),\n",
       " ('ㅋㅋㅋ', 'KoreanParticle')]"
      ]
     },
     "execution_count": 8,
     "metadata": {},
     "output_type": "execute_result"
    }
   ],
   "source": [
    "# stem=True : 원형 글자로 바꿔준다. (기본값 False)\n",
    "\n",
    "okt.pos(\"이것도 되나욬ㅋㅋㅋㅋ\",norm = True,stem=True)"
   ]
  },
  {
   "cell_type": "markdown",
   "id": "d3e7ec25",
   "metadata": {},
   "source": [
    "### 2. 형태소 단위 추출"
   ]
  },
  {
   "cell_type": "markdown",
   "id": "7ac9f963",
   "metadata": {},
   "source": [
    "- okt.morphs(텍스트)"
   ]
  },
  {
   "cell_type": "code",
   "execution_count": 8,
   "id": "69047dbd",
   "metadata": {},
   "outputs": [
    {
     "data": {
      "text/plain": [
       "['아버지', '가방', '에', '들어가신다', '.']"
      ]
     },
     "execution_count": 8,
     "metadata": {},
     "output_type": "execute_result"
    }
   ],
   "source": [
    "# 텍스트를 형태소 단위로 나눈다.\n",
    "txt = \"아버지가방에들어가신다.\"\n",
    "okt.morphs(txt)"
   ]
  },
  {
   "cell_type": "code",
   "execution_count": 9,
   "id": "17068e34",
   "metadata": {},
   "outputs": [
    {
     "data": {
      "text/plain": [
       "['이', '것', '도', '되나욬', 'ㅋㅋㅋㅋ']"
      ]
     },
     "execution_count": 9,
     "metadata": {},
     "output_type": "execute_result"
    }
   ],
   "source": [
    "# 텍스트를 형태소 단위로 나눈다.\n",
    "okt.morphs(\"이것도 되나욬ㅋㅋㅋㅋ\")"
   ]
  },
  {
   "cell_type": "markdown",
   "id": "d5b2d3e6",
   "metadata": {},
   "source": [
    "### 3. 명사 추출\n",
    "- okt.nouns(텍스트)"
   ]
  },
  {
   "cell_type": "code",
   "execution_count": 14,
   "id": "a4d470b6",
   "metadata": {},
   "outputs": [
    {
     "data": {
      "text/plain": [
       "['아버지', '가방']"
      ]
     },
     "execution_count": 14,
     "metadata": {},
     "output_type": "execute_result"
    }
   ],
   "source": [
    "# 텍스트에서 명사만 추출\n",
    "txt = \"아버지가방에들어가신다.\"\n",
    "okt.nouns(txt)"
   ]
  },
  {
   "cell_type": "code",
   "execution_count": 12,
   "id": "96fa8a99",
   "metadata": {},
   "outputs": [
    {
     "data": {
      "text/plain": [
       "['것', '되나욬']"
      ]
     },
     "execution_count": 12,
     "metadata": {},
     "output_type": "execute_result"
    }
   ],
   "source": [
    "okt.nouns(\"이것도 되나욬ㅋㅋㅋㅋ\")"
   ]
  },
  {
   "cell_type": "markdown",
   "id": "feede893",
   "metadata": {},
   "source": [
    "### 4. 어절 추출\n",
    "- okt.phrases(텍스트)"
   ]
  },
  {
   "cell_type": "code",
   "execution_count": 15,
   "id": "057a9124",
   "metadata": {},
   "outputs": [
    {
     "data": {
      "text/plain": [
       "['아버지가방', '아버지', '가방']"
      ]
     },
     "execution_count": 15,
     "metadata": {},
     "output_type": "execute_result"
    }
   ],
   "source": [
    "txt = \"아버지가방에들어가신다.\"\n",
    "okt.phrases(txt)"
   ]
  },
  {
   "cell_type": "code",
   "execution_count": 16,
   "id": "8e2662d3",
   "metadata": {},
   "outputs": [
    {
     "data": {
      "text/plain": [
       "['이것', '되나욬']"
      ]
     },
     "execution_count": 16,
     "metadata": {},
     "output_type": "execute_result"
    }
   ],
   "source": [
    "okt.phrases(\"이것도 되나욬ㅋㅋㅋㅋ\")"
   ]
  },
  {
   "cell_type": "code",
   "execution_count": 19,
   "id": "f362d9cc",
   "metadata": {},
   "outputs": [],
   "source": [
    "# kk=Kkma()\n",
    "# kk.nouns(txt)"
   ]
  },
  {
   "cell_type": "markdown",
   "id": "3d16bfed",
   "metadata": {},
   "source": [
    "### (실습)문장에서  명사 추출\n",
    "https://wikidocs.net/33799"
   ]
  },
  {
   "cell_type": "code",
   "execution_count": 33,
   "id": "832561cc",
   "metadata": {},
   "outputs": [],
   "source": [
    "sample= [\n",
    "    '스토리가 진짜 너무 노잼',\n",
    "    '심오한 똥이란 말이 딱이다',\n",
    "    '쓰레기같은 영화 ㄹㅇ 시간아깝다',\n",
    "    '점도 아깝다 ㄹㅇ쓰레기 영화',\n",
    "    '이 드러운 기분을 어쩌지',\n",
    "    '이건 명작임',\n",
    "    '이런 느낌 영화 좋아요',\n",
    "    '죽기전에 봐야할 영화',\n",
    "    '뻔한 로코가아님 대사가 아주 좋아요',\n",
    "    '안봤으면 후회했을거같다감동이다'\n",
    "]"
   ]
  },
  {
   "cell_type": "markdown",
   "id": "36e4c3dc",
   "metadata": {},
   "source": [
    "### - 모든 문서 =>  한 문서로 처리해서 명사 추출"
   ]
  },
  {
   "cell_type": "code",
   "execution_count": 34,
   "id": "cdfcbb63",
   "metadata": {},
   "outputs": [
    {
     "data": {
      "text/plain": [
       "'스토리가 진짜 너무 노잼 심오한 똥이란 말이 딱이다 쓰레기같은 영화 ㄹㅇ 시간아깝다 점도 아깝다 ㄹㅇ쓰레기 영화 이 드러운 기분을 어쩌지 이건 명작임 이런 느낌 영화 좋아요 죽기전에 봐야할 영화 뻔한 로코가아님 대사가 아주 좋아요 안봤으면 후회했을거같다감동이다'"
      ]
     },
     "execution_count": 34,
     "metadata": {},
     "output_type": "execute_result"
    }
   ],
   "source": [
    "document=' '.join(sample)\n",
    "document"
   ]
  },
  {
   "cell_type": "code",
   "execution_count": 36,
   "id": "61ab7c07",
   "metadata": {},
   "outputs": [
    {
     "name": "stdout",
     "output_type": "stream",
     "text": [
      "['스토리', '진짜', '노잼', '똥', '말', '쓰레기', '영화', '시간', '점도', '쓰레기', '영화', '이', '기분', '이건', '명작', '임', '느낌', '영화', '영화', '로코', '대사', '아주', '후회', '감동']\n"
     ]
    }
   ],
   "source": [
    "okt=Okt()\n",
    "noun=okt.nouns(document)\n",
    "print(noun)"
   ]
  },
  {
   "cell_type": "markdown",
   "id": "157e16ea",
   "metadata": {},
   "source": [
    "### - 각 문서에서 명사 추출"
   ]
  },
  {
   "cell_type": "code",
   "execution_count": 42,
   "id": "774b299a",
   "metadata": {},
   "outputs": [
    {
     "data": {
      "text/plain": [
       "[['스토리', '진짜', '노잼'],\n",
       " ['똥', '말'],\n",
       " ['쓰레기', '영화', '시간'],\n",
       " ['점도', '쓰레기', '영화'],\n",
       " ['이', '기분'],\n",
       " ['이건', '명작', '임'],\n",
       " ['느낌', '영화'],\n",
       " ['영화'],\n",
       " ['로코', '대사', '아주'],\n",
       " ['후회', '감동']]"
      ]
     },
     "execution_count": 42,
     "metadata": {},
     "output_type": "execute_result"
    }
   ],
   "source": [
    "sample_nouns=[okt.nouns(i) for i in sample]\n",
    "sample_nouns"
   ]
  },
  {
   "cell_type": "code",
   "execution_count": 46,
   "id": "e4f37f17",
   "metadata": {},
   "outputs": [
    {
     "data": {
      "text/plain": [
       "['스토리 진짜 노잼',\n",
       " '똥 말',\n",
       " '쓰레기 영화 시간',\n",
       " '점도 쓰레기 영화',\n",
       " '이 기분',\n",
       " '이건 명작 임',\n",
       " '느낌 영화',\n",
       " '영화',\n",
       " '로코 대사 아주',\n",
       " '후회 감동']"
      ]
     },
     "execution_count": 46,
     "metadata": {},
     "output_type": "execute_result"
    }
   ],
   "source": [
    "sample_res=[' '.join(i) for i in sample_nouns]\n",
    "sample_res"
   ]
  },
  {
   "cell_type": "markdown",
   "id": "d417d453",
   "metadata": {},
   "source": [
    "### 5. (실습)문장에서  명사(Noun), 형용사(Adjective), 동사(Verb) 추출"
   ]
  },
  {
   "cell_type": "markdown",
   "id": "1ae4afe7",
   "metadata": {},
   "source": [
    "##### - 모든 문서 =>  한 문서로 처리해서 명사, 형용사, 동사 추출"
   ]
  },
  {
   "cell_type": "code",
   "execution_count": 51,
   "id": "46e157fc",
   "metadata": {},
   "outputs": [
    {
     "data": {
      "text/plain": [
       "'스토리가 진짜 너무 노잼 심오한 똥이란 말이 딱이다 쓰레기같은 영화 ㄹㅇ 시간아깝다 점도 아깝다 ㄹㅇ쓰레기 영화 이 드러운 기분을 어쩌지 이건 명작임 이런 느낌 영화 좋아요 죽기전에 봐야할 영화 뻔한 로코가아님 대사가 아주 좋아요 안봤으면 후회했을거같다감동이다'"
      ]
     },
     "execution_count": 51,
     "metadata": {},
     "output_type": "execute_result"
    }
   ],
   "source": [
    "document"
   ]
  },
  {
   "cell_type": "code",
   "execution_count": 47,
   "id": "9a8c1dc3",
   "metadata": {},
   "outputs": [
    {
     "data": {
      "text/plain": [
       "[('스토리', 'Noun'),\n",
       " ('가', 'Josa'),\n",
       " ('진짜', 'Noun'),\n",
       " ('너무', 'Adverb'),\n",
       " ('노잼', 'Noun'),\n",
       " ('심오하다', 'Adjective'),\n",
       " ('똥', 'Noun'),\n",
       " ('이란', 'Josa'),\n",
       " ('말', 'Noun'),\n",
       " ('이', 'Josa'),\n",
       " ('딱이다', 'Adjective'),\n",
       " ('쓰레기', 'Noun'),\n",
       " ('같다', 'Adjective'),\n",
       " ('영화', 'Noun'),\n",
       " ('ㄹㅇ', 'KoreanParticle'),\n",
       " ('시간', 'Noun'),\n",
       " ('아깝다', 'Adjective'),\n",
       " ('점도', 'Noun'),\n",
       " ('아깝다', 'Adjective'),\n",
       " ('ㄹㅇ', 'KoreanParticle'),\n",
       " ('쓰레기', 'Noun'),\n",
       " ('영화', 'Noun'),\n",
       " ('이', 'Noun'),\n",
       " ('드럽다', 'Adjective'),\n",
       " ('기분', 'Noun'),\n",
       " ('을', 'Josa'),\n",
       " ('어쩌지', 'Adverb'),\n",
       " ('이건', 'Noun'),\n",
       " ('명작', 'Noun'),\n",
       " ('임', 'Noun'),\n",
       " ('이렇다', 'Adjective'),\n",
       " ('느낌', 'Noun'),\n",
       " ('영화', 'Noun'),\n",
       " ('좋다', 'Adjective'),\n",
       " ('죽다', 'Verb'),\n",
       " ('보다', 'Verb'),\n",
       " ('야하다', 'Adjective'),\n",
       " ('영화', 'Noun'),\n",
       " ('뻔하다', 'Adjective'),\n",
       " ('로코', 'Noun'),\n",
       " ('가', 'Josa'),\n",
       " ('아니다', 'Adjective'),\n",
       " ('대사', 'Noun'),\n",
       " ('가', 'Josa'),\n",
       " ('아주', 'Noun'),\n",
       " ('좋다', 'Adjective'),\n",
       " ('안', 'VerbPrefix'),\n",
       " ('보다', 'Verb'),\n",
       " ('후회', 'Noun'),\n",
       " ('하다', 'Verb'),\n",
       " ('같다', 'Adjective'),\n",
       " ('감동', 'Noun'),\n",
       " ('이다', 'Josa')]"
      ]
     },
     "execution_count": 47,
     "metadata": {},
     "output_type": "execute_result"
    }
   ],
   "source": [
    "# 품사태깅(pos), stem=True 어간추출\n",
    "pos=okt.pos(document, stem=True)\n",
    "pos"
   ]
  },
  {
   "cell_type": "code",
   "execution_count": 50,
   "id": "4e34f0b1",
   "metadata": {},
   "outputs": [
    {
     "data": {
      "text/plain": [
       "['스토리',\n",
       " '진짜',\n",
       " '노잼',\n",
       " '심오하다',\n",
       " '똥',\n",
       " '말',\n",
       " '딱이다',\n",
       " '쓰레기',\n",
       " '같다',\n",
       " '영화',\n",
       " '시간',\n",
       " '아깝다',\n",
       " '점도',\n",
       " '아깝다',\n",
       " '쓰레기',\n",
       " '영화',\n",
       " '이',\n",
       " '드럽다',\n",
       " '기분',\n",
       " '이건',\n",
       " '명작',\n",
       " '임',\n",
       " '이렇다',\n",
       " '느낌',\n",
       " '영화',\n",
       " '좋다',\n",
       " '죽다',\n",
       " '보다',\n",
       " '야하다',\n",
       " '영화',\n",
       " '뻔하다',\n",
       " '로코',\n",
       " '아니다',\n",
       " '대사',\n",
       " '아주',\n",
       " '좋다',\n",
       " '보다',\n",
       " '후회',\n",
       " '하다',\n",
       " '같다',\n",
       " '감동']"
      ]
     },
     "execution_count": 50,
     "metadata": {},
     "output_type": "execute_result"
    }
   ],
   "source": [
    "tmp_token=[word for word,p in pos if p in ['Noun','Adjective','Verb']]\n",
    "tmp_token"
   ]
  },
  {
   "cell_type": "markdown",
   "id": "c5932c45",
   "metadata": {},
   "source": [
    "### - 각 문서에서  명사, 형용사, 동사 추출"
   ]
  },
  {
   "cell_type": "code",
   "execution_count": 52,
   "id": "c82eaa4e",
   "metadata": {},
   "outputs": [
    {
     "data": {
      "text/plain": [
       "['스토리가 진짜 너무 노잼',\n",
       " '심오한 똥이란 말이 딱이다',\n",
       " '쓰레기같은 영화 ㄹㅇ 시간아깝다',\n",
       " '점도 아깝다 ㄹㅇ쓰레기 영화',\n",
       " '이 드러운 기분을 어쩌지',\n",
       " '이건 명작임',\n",
       " '이런 느낌 영화 좋아요',\n",
       " '죽기전에 봐야할 영화',\n",
       " '뻔한 로코가아님 대사가 아주 좋아요',\n",
       " '안봤으면 후회했을거같다감동이다']"
      ]
     },
     "execution_count": 52,
     "metadata": {},
     "output_type": "execute_result"
    }
   ],
   "source": [
    "sample"
   ]
  },
  {
   "cell_type": "code",
   "execution_count": 55,
   "id": "04c45e63",
   "metadata": {},
   "outputs": [
    {
     "data": {
      "text/plain": [
       "[[('스토리', 'Noun'),\n",
       "  ('가', 'Josa'),\n",
       "  ('진짜', 'Noun'),\n",
       "  ('너무', 'Adverb'),\n",
       "  ('노잼', 'Noun')],\n",
       " [('심오한', 'Adjective'),\n",
       "  ('똥', 'Noun'),\n",
       "  ('이란', 'Josa'),\n",
       "  ('말', 'Noun'),\n",
       "  ('이', 'Josa'),\n",
       "  ('딱이다', 'Adjective')],\n",
       " [('쓰레기', 'Noun'),\n",
       "  ('같은', 'Adjective'),\n",
       "  ('영화', 'Noun'),\n",
       "  ('ㄹㅇ', 'KoreanParticle'),\n",
       "  ('시간', 'Noun'),\n",
       "  ('아깝다', 'Adjective')],\n",
       " [('점도', 'Noun'),\n",
       "  ('아깝다', 'Adjective'),\n",
       "  ('ㄹㅇ', 'KoreanParticle'),\n",
       "  ('쓰레기', 'Noun'),\n",
       "  ('영화', 'Noun')],\n",
       " [('이', 'Noun'),\n",
       "  ('드러운', 'Adjective'),\n",
       "  ('기분', 'Noun'),\n",
       "  ('을', 'Josa'),\n",
       "  ('어쩌지', 'Adverb')],\n",
       " [('이건', 'Noun'), ('명작', 'Noun'), ('임', 'Noun')],\n",
       " [('이런', 'Adjective'), ('느낌', 'Noun'), ('영화', 'Noun'), ('좋아요', 'Adjective')],\n",
       " [('죽기전에', 'Verb'), ('봐', 'Verb'), ('야할', 'Adjective'), ('영화', 'Noun')],\n",
       " [('뻔한', 'Adjective'),\n",
       "  ('로코', 'Noun'),\n",
       "  ('가', 'Josa'),\n",
       "  ('아님', 'Adjective'),\n",
       "  ('대사', 'Noun'),\n",
       "  ('가', 'Josa'),\n",
       "  ('아주', 'Noun'),\n",
       "  ('좋아요', 'Adjective')],\n",
       " [('안', 'VerbPrefix'),\n",
       "  ('봤으면', 'Verb'),\n",
       "  ('후회', 'Noun'),\n",
       "  ('했을거', 'Verb'),\n",
       "  ('같다', 'Adjective'),\n",
       "  ('감동', 'Noun'),\n",
       "  ('이다', 'Josa')]]"
      ]
     },
     "execution_count": 55,
     "metadata": {},
     "output_type": "execute_result"
    }
   ],
   "source": [
    "tmp=[okt.pos(i) for i in sample]\n",
    "tmp"
   ]
  },
  {
   "cell_type": "code",
   "execution_count": 65,
   "id": "d8b427bc",
   "metadata": {},
   "outputs": [
    {
     "data": {
      "text/plain": [
       "[['스토리', '진짜', '노잼'],\n",
       " ['심오한', '똥', '말', '딱이다'],\n",
       " ['쓰레기', '같은', '영화', '시간', '아깝다'],\n",
       " ['점도', '아깝다', '쓰레기', '영화'],\n",
       " ['이', '드러운', '기분'],\n",
       " ['이건', '명작', '임'],\n",
       " ['이런', '느낌', '영화', '좋아요'],\n",
       " ['죽기전에', '봐', '야할', '영화'],\n",
       " ['뻔한', '로코', '아님', '대사', '아주', '좋아요'],\n",
       " ['봤으면', '후회', '했을거', '같다', '감동']]"
      ]
     },
     "execution_count": 65,
     "metadata": {},
     "output_type": "execute_result"
    }
   ],
   "source": [
    "res=[]\n",
    "for pos in tmp:\n",
    "    res.append([word for word, p in pos if p in ['Noun','Adjective','Verb']])\n",
    "res"
   ]
  },
  {
   "cell_type": "markdown",
   "id": "5940abc2",
   "metadata": {},
   "source": [
    "### 6. stopword 지정"
   ]
  },
  {
   "cell_type": "markdown",
   "id": "fc025075",
   "metadata": {},
   "source": [
    "#### - 한 문장에서 stopword 제외"
   ]
  },
  {
   "cell_type": "code",
   "execution_count": 66,
   "id": "49a55b7b",
   "metadata": {},
   "outputs": [
    {
     "data": {
      "text/plain": [
       "'스토리가 진짜 너무 노잼 심오한 똥이란 말이 딱이다 쓰레기같은 영화 ㄹㅇ 시간아깝다 점도 아깝다 ㄹㅇ쓰레기 영화 이 드러운 기분을 어쩌지 이건 명작임 이런 느낌 영화 좋아요 죽기전에 봐야할 영화 뻔한 로코가아님 대사가 아주 좋아요 안봤으면 후회했을거같다감동이다'"
      ]
     },
     "execution_count": 66,
     "metadata": {},
     "output_type": "execute_result"
    }
   ],
   "source": [
    "document"
   ]
  },
  {
   "cell_type": "code",
   "execution_count": 69,
   "id": "e53d4b92",
   "metadata": {},
   "outputs": [
    {
     "name": "stdout",
     "output_type": "stream",
     "text": [
      "['스토리', '진짜', '노잼', '똥', '말', '쓰레기', '영화', '시간', '점도', '쓰레기', '영화', '이', '기분', '이건', '명작', '임', '느낌', '영화', '영화', '로코', '대사', '아주', '후회', '감동']\n"
     ]
    }
   ],
   "source": [
    "# 명사 추출\n",
    "okt=Okt()\n",
    "n=okt.nouns(document)\n",
    "print(n)"
   ]
  },
  {
   "cell_type": "code",
   "execution_count": 74,
   "id": "400aabd7",
   "metadata": {},
   "outputs": [
    {
     "name": "stdout",
     "output_type": "stream",
     "text": [
      "['진짜', '노잼', '말', '쓰레기', '영화', '시간', '점도', '쓰레기', '영화', '기분', '이건', '명작', '느낌', '영화', '영화', '로코', '대사', '아주', '후회', '감동']\n"
     ]
    }
   ],
   "source": [
    "#stopword\n",
    "stopword=['스토리','똥','이','임']\n",
    "n_1=[i for i in n if i not in stopword]\n",
    "print(n_1)"
   ]
  },
  {
   "cell_type": "markdown",
   "id": "d8e4060e",
   "metadata": {},
   "source": [
    "#### - 여러 문장에서 stopword 제외"
   ]
  },
  {
   "cell_type": "code",
   "execution_count": 75,
   "id": "1e15ea6e",
   "metadata": {},
   "outputs": [
    {
     "data": {
      "text/plain": [
       "['스토리가 진짜 너무 노잼',\n",
       " '심오한 똥이란 말이 딱이다',\n",
       " '쓰레기같은 영화 ㄹㅇ 시간아깝다',\n",
       " '점도 아깝다 ㄹㅇ쓰레기 영화',\n",
       " '이 드러운 기분을 어쩌지',\n",
       " '이건 명작임',\n",
       " '이런 느낌 영화 좋아요',\n",
       " '죽기전에 봐야할 영화',\n",
       " '뻔한 로코가아님 대사가 아주 좋아요',\n",
       " '안봤으면 후회했을거같다감동이다']"
      ]
     },
     "execution_count": 75,
     "metadata": {},
     "output_type": "execute_result"
    }
   ],
   "source": [
    "sample"
   ]
  },
  {
   "cell_type": "code",
   "execution_count": 79,
   "id": "24d1e11d",
   "metadata": {},
   "outputs": [
    {
     "data": {
      "text/plain": [
       "[['스토리', '진짜', '노잼'],\n",
       " ['똥', '말'],\n",
       " ['쓰레기', '영화', '시간'],\n",
       " ['점도', '쓰레기', '영화'],\n",
       " ['이', '기분'],\n",
       " ['이건', '명작', '임'],\n",
       " ['느낌', '영화'],\n",
       " ['영화'],\n",
       " ['로코', '대사', '아주'],\n",
       " ['후회', '감동']]"
      ]
     },
     "execution_count": 79,
     "metadata": {},
     "output_type": "execute_result"
    }
   ],
   "source": [
    "# 각 문장에서 명사추출\n",
    "okt=Okt()\n",
    "nouns=[okt.nouns(i) for i in sample]\n",
    "nouns"
   ]
  },
  {
   "cell_type": "code",
   "execution_count": 81,
   "id": "d1fb8551",
   "metadata": {},
   "outputs": [
    {
     "data": {
      "text/plain": [
       "[['진짜', '노잼'],\n",
       " ['말'],\n",
       " ['쓰레기', '영화', '시간'],\n",
       " ['점도', '쓰레기', '영화'],\n",
       " ['기분'],\n",
       " ['이건', '명작'],\n",
       " ['느낌', '영화'],\n",
       " ['영화'],\n",
       " ['로코', '대사', '아주'],\n",
       " ['후회', '감동']]"
      ]
     },
     "execution_count": 81,
     "metadata": {},
     "output_type": "execute_result"
    }
   ],
   "source": [
    "stopword=['스토리','똥','이','임']\n",
    "\n",
    "res_noun=[]\n",
    "for i in nouns:\n",
    "    res_noun.append([w for w in i if w not in stopword])\n",
    "\n",
    "res_noun\n"
   ]
  },
  {
   "cell_type": "code",
   "execution_count": 83,
   "id": "f39d4556",
   "metadata": {},
   "outputs": [
    {
     "data": {
      "text/plain": [
       "['진짜 노잼',\n",
       " '말',\n",
       " '쓰레기 영화 시간',\n",
       " '점도 쓰레기 영화',\n",
       " '기분',\n",
       " '이건 명작',\n",
       " '느낌 영화',\n",
       " '영화',\n",
       " '로코 대사 아주',\n",
       " '후회 감동']"
      ]
     },
     "execution_count": 83,
     "metadata": {},
     "output_type": "execute_result"
    }
   ],
   "source": [
    "tmp=[' '.join(i) for i in res_noun]\n",
    "tmp"
   ]
  },
  {
   "cell_type": "code",
   "execution_count": null,
   "id": "8a6c7638",
   "metadata": {},
   "outputs": [],
   "source": []
  }
 ],
 "metadata": {
  "kernelspec": {
   "display_name": "Python 3 (ipykernel)",
   "language": "python",
   "name": "python3"
  },
  "language_info": {
   "codemirror_mode": {
    "name": "ipython",
    "version": 3
   },
   "file_extension": ".py",
   "mimetype": "text/x-python",
   "name": "python",
   "nbconvert_exporter": "python",
   "pygments_lexer": "ipython3",
   "version": "3.11.5"
  }
 },
 "nbformat": 4,
 "nbformat_minor": 5
}
